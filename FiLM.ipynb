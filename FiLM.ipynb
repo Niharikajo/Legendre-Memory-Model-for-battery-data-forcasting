{
  "cells": [
    {
      "cell_type": "markdown",
      "metadata": {
        "id": "view-in-github",
        "colab_type": "text"
      },
      "source": [
        "<a href=\"https://colab.research.google.com/github/Niharikajo/Legendre-Memory-Model-for-battery-data-forcasting/blob/main/FiLM.ipynb\" target=\"_parent\"><img src=\"https://colab.research.google.com/assets/colab-badge.svg\" alt=\"Open In Colab\"/></a>"
      ]
    },
    {
      "cell_type": "markdown",
      "source": [
        "Mounting Drive\n"
      ],
      "metadata": {
        "id": "Y03_6lYzovQi"
      }
    },
    {
      "cell_type": "code",
      "execution_count": null,
      "metadata": {
        "colab": {
          "base_uri": "https://localhost:8080/"
        },
        "id": "OxXOIUFJROZV",
        "outputId": "f4648540-18d3-4ae8-c332-14431ce6627d"
      },
      "outputs": [
        {
          "output_type": "stream",
          "name": "stdout",
          "text": [
            "Drive already mounted at /content/drive; to attempt to forcibly remount, call drive.mount(\"/content/drive\", force_remount=True).\n"
          ]
        }
      ],
      "source": [
        "from google.colab import drive\n",
        "drive.mount('/content/drive')"
      ]
    },
    {
      "cell_type": "markdown",
      "source": [
        "Install missing packgaes"
      ],
      "metadata": {
        "id": "G0Pbfw91o0Wi"
      }
    },
    {
      "cell_type": "code",
      "execution_count": null,
      "metadata": {
        "colab": {
          "base_uri": "https://localhost:8080/"
        },
        "id": "6SZuueA1iEDq",
        "outputId": "acd0c8b5-508a-4c84-fc40-3fec90e28a04"
      },
      "outputs": [
        {
          "output_type": "stream",
          "name": "stdout",
          "text": [
            "Looking in indexes: https://pypi.org/simple, https://us-python.pkg.dev/colab-wheels/public/simple/\n",
            "Collecting einops\n",
            "  Downloading einops-0.5.0-py3-none-any.whl (36 kB)\n",
            "Installing collected packages: einops\n",
            "Successfully installed einops-0.5.0\n"
          ]
        }
      ],
      "source": [
        "!pip install einops"
      ]
    },
    {
      "cell_type": "markdown",
      "source": [
        "Change directory to Film code folder"
      ],
      "metadata": {
        "id": "7lnnpNR7o65P"
      }
    },
    {
      "cell_type": "code",
      "execution_count": null,
      "metadata": {
        "colab": {
          "base_uri": "https://localhost:8080/"
        },
        "id": "vqLU1_VbXCSE",
        "outputId": "b9aa639a-1365-4115-d7ed-8b9db9af7121"
      },
      "outputs": [
        {
          "output_type": "stream",
          "name": "stdout",
          "text": [
            "/content/drive/MyDrive/FiLM-main\n"
          ]
        }
      ],
      "source": [
        "%cd /content/drive/MyDrive/FiLM-main"
      ]
    },
    {
      "cell_type": "code",
      "execution_count": null,
      "metadata": {
        "colab": {
          "base_uri": "https://localhost:8080/"
        },
        "id": "miTwFwkHRkyG",
        "outputId": "ad29f742-a731-47ab-9e89-71125a5157df"
      },
      "outputs": [
        {
          "output_type": "stream",
          "name": "stdout",
          "text": [
            "Args in experiment:\n",
            "Namespace(L=3, ab=2, activation='gelu', add_noise_train=False, add_noise_vali=False, base='legendre', batch_size=32, c_out=1, checkpoints='./checkpoints/', cross_activation='tanh', d_ff=2048, d_layers=1, d_model=512, data='dataset', data_path='dataset.csv', dec_in=1, des='Exp', devices='0,1', distil=True, do_predict=False, dropout=0.05, e_layers=2, embed='timeF', enc_in=1, factor=1, features='S', freq='h', gpu=0, is_training=1, itr=1, label_len=48, learning_rate=0.001, loss='mse', lradj='type4', mode_type=0, model='FiLM', model_id='FiLM_ETTm2_96_96', modes1=32, moving_avg=[24], n_heads=8, num_workers=10, ours=True, output_attention=False, patience=30, pred_len=96, ratio=0.5, root_path='./dataset/ETT-small/', seasonal=7, seq_len=96, target='Charge_Capacity(Ah)', train_epochs=6, use_amp=False, use_gpu=True, use_multi_gpu=False, version=0, wavelet=0)\n",
            "Use GPU: cuda:0\n",
            ">>>>>>>start training : FiLM_ETTm2_96_96_FiLM_fourCroguidedm2TanhR_ab2_modes32_uwl0_dataset_ftS_sl96_ll48_pl96_dm512_nh8_el2_dl1_df2048_fc1_ebtimeF_dtTrue_Exp_0>>>>>>>>>>>>>>>>>>>>>>>>>>\n",
            "train 2716\n",
            "val 322\n",
            "test 735\n",
            "Epoch: 1 cost time: 6.232794284820557\n",
            "Epoch: 1, Steps: 84 | Train Loss: 0.3625180 Vali Loss: 0.0851834 Test Loss: 0.2096545\n",
            "Validation loss decreased (inf --> 0.085183).  Saving model ...\n",
            "Updating learning rate to 0.001\n",
            "Epoch: 2 cost time: 5.582964658737183\n",
            "Epoch: 2, Steps: 84 | Train Loss: 0.0840244 Vali Loss: 0.0260950 Test Loss: 0.1500781\n",
            "Validation loss decreased (0.085183 --> 0.026095).  Saving model ...\n",
            "Updating learning rate to 0.000995\n",
            "Epoch: 3 cost time: 5.522228240966797\n",
            "Epoch: 3, Steps: 84 | Train Loss: 0.0528147 Vali Loss: 0.0233656 Test Loss: 0.1506029\n",
            "Validation loss decreased (0.026095 --> 0.023366).  Saving model ...\n",
            "Updating learning rate to 0.000990025\n",
            "Epoch: 4 cost time: 5.526292562484741\n",
            "Epoch: 4, Steps: 84 | Train Loss: 0.0504942 Vali Loss: 0.0151291 Test Loss: 0.1391328\n",
            "Validation loss decreased (0.023366 --> 0.015129).  Saving model ...\n",
            "Updating learning rate to 0.000985074875\n",
            "Epoch: 5 cost time: 5.559433698654175\n",
            "Epoch: 5, Steps: 84 | Train Loss: 0.0458579 Vali Loss: 0.0149400 Test Loss: 0.1432923\n",
            "Validation loss decreased (0.015129 --> 0.014940).  Saving model ...\n",
            "Updating learning rate to 0.000980149500625\n",
            "Epoch: 6 cost time: 5.76559853553772\n",
            "Epoch: 6, Steps: 84 | Train Loss: 0.0453929 Vali Loss: 0.0168052 Test Loss: 0.1480810\n",
            "EarlyStopping counter: 1 out of 30\n",
            "Updating learning rate to 0.000975248753121875\n",
            ">>>>>>>testing : FiLM_ETTm2_96_96_FiLM_fourCroguidedm2TanhR_ab2_modes32_uwl0_dataset_ftS_sl96_ll48_pl96_dm512_nh8_el2_dl1_df2048_fc1_ebtimeF_dtTrue_Exp_0<<<<<<<<<<<<<<<<<<<<<<<<<<<<<<<<<\n",
            "test 735\n",
            "test shape: (22, 32, 96) (22, 32, 96)\n",
            "test shape: (704, 96, 1) (704, 96, 1)\n",
            "mse:0.0877826064825058, mae:0.09705664962530136\n"
          ]
        }
      ],
      "source": [
        "!bash ./script/ETT_script/FiLM/FiLM_ETTm2.sh "
      ]
    },
    {
      "cell_type": "markdown",
      "source": [
        "Plotting Results\n"
      ],
      "metadata": {
        "id": "IGu_7arWpmbG"
      }
    },
    {
      "cell_type": "markdown",
      "source": [
        "change directory to result folder"
      ],
      "metadata": {
        "id": "GDuwfNJ7psdb"
      }
    },
    {
      "cell_type": "code",
      "source": [
        "%cd /content/drive/MyDrive/FiLM-main/results/FiLM_ETTm2_96_96_FiLM_fourCroguidedm2TanhR_ab2_modes32_uwl0_dataset_ftS_sl96_ll48_pl96_dm512_nh8_el2_dl1_df2048_fc1_ebtimeF_dtTrue_Exp_0"
      ],
      "metadata": {
        "colab": {
          "base_uri": "https://localhost:8080/"
        },
        "id": "zwDWfqCu5Zit",
        "outputId": "b53c8d06-2398-48cb-c1a0-08f1cfa0fe6c"
      },
      "execution_count": null,
      "outputs": [
        {
          "output_type": "stream",
          "name": "stdout",
          "text": [
            "/content/drive/MyDrive/FiLM-main/results/FiLM_ETTm2_96_96_FiLM_fourCroguidedm2TanhR_ab2_modes32_uwl0_dataset_ftS_sl96_ll48_pl96_dm512_nh8_el2_dl1_df2048_fc1_ebtimeF_dtTrue_Exp_0\n"
          ]
        }
      ]
    },
    {
      "cell_type": "code",
      "source": [
        "# Importing Requirements for plotting\n",
        "import numpy as np\n",
        "import matplotlib.pyplot as plt\n",
        "import seaborn as sns\n",
        "\n",
        "\n",
        "preds = np.load('pred.npy') # Predicted parameters\n",
        "trues = np.load('true.npy') # Ground truth parameters"
      ],
      "metadata": {
        "id": "_fnpB87M4dc0"
      },
      "execution_count": null,
      "outputs": []
    },
    {
      "cell_type": "code",
      "source": [
        "plt.figure()\n",
        "# The below range plots the first 500 data points to get the whole plot use trues[:,1,-1] and preds[:,1,-1]\n",
        "plt.plot(trues[:,1,-1], label='GroundTruth',) \n",
        "plt.plot(preds[:,1,-1], label='Prediction')\n",
        "#plt.yticks([2.5,3,3.5,4,4.5,5]) # Y-axis markings (can be varied depending on the requirement)\n",
        "plt.legend()\n",
        "plt.savefig(\"Charge_capacity_pouch_cell_ground_vs_pred.pdf\")\n",
        "plt.show()"
      ],
      "metadata": {
        "colab": {
          "base_uri": "https://localhost:8080/",
          "height": 265
        },
        "id": "X_F8F-6h4hcm",
        "outputId": "377de7d1-02fb-40d3-f4ca-afcec50dad1e"
      },
      "execution_count": null,
      "outputs": [
        {
          "output_type": "display_data",
          "data": {
            "text/plain": [
              "<Figure size 432x288 with 1 Axes>"
            ],
            "image/png": "[encoded data removed]"
          },
          "metadata": {
            "needs_background": "light"
          }
        }
      ]
    }
  ],
  "metadata": {
    "accelerator": "GPU",
    "colab": {
      "provenance": [],
      "collapsed_sections": [],
      "mount_file_id": "1_EtWqk__52i_XcNP2jB9A0eoPOf9q2-b",
      "authorship_tag": "ABX9TyNu1jViXK5W5NvfafQiYeOu",
      "include_colab_link": true
    },
    "kernelspec": {
      "display_name": "Python 3",
      "name": "python3"
    },
    "language_info": {
      "name": "python"
    },
    "gpuClass": "standard"
  },
  "nbformat": 4,
  "nbformat_minor": 0
}